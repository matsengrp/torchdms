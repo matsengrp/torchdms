{
 "cells": [
  {
   "cell_type": "markdown",
   "id": "8af3c878-d583-45c4-bfcb-770b65957da1",
   "metadata": {},
   "source": [
    "# Details of ``torchdms`` models\n",
    "\n",
    "Here we describe the different assumptions and formulations of sequence-phenotype models supported in this package.\n",
    "\n",
    "## Notation\n",
    "Consider a library of $N$ deep mutational scanning variants of a protein with $L$ sites, where functional scores for an arbitrary number of phenotypes (e.g., expression levels, ligand binding, antibody escape, etc.).\n",
    "Lets define the following notation:\n",
    "\n",
    "* Define the set of alphabet of mutations $m$ (i.e., amino acids, stops, and gaps) as $\\mathcal{A}$, and $|\\mathcal{A}| = M$ \n",
    "* Define a mutation $m$ such that $m \\in \\mathcal{A}$\n",
    "* Given a variant $v$, we construct a binary representation of $v$ with respect to some wildtype sequence, $b(v) \\in \\mathbb{R^A}$, with element $b(v)_m$ equal to 1 if $v$ has mutation $m$ and 0 if $v$ has the wild type character.\n",
    "* Define the mutational effect of the wildtype amino acid as $\\beta_{wt}$\n",
    "* Define the measured DMS functional score for phenotype $p$ as $y_{p}$"
   ]
  },
  {
   "cell_type": "markdown",
   "id": "ab6ecb2f-d61e-4d5b-bd7e-e208cb64278f",
   "metadata": {
    "tags": []
   },
   "source": [
    "## Linear model\n",
    "\n",
    "We can fit a linear model to DMS data to infer *latent/mutational effects* for each observed mutation, $\\beta_m$.\n",
    "\n",
    "To predict functional scores for phenotype $p$ of variant $v$, inferred mutational effects contribute additively:\n",
    "\n",
    "$$ \\widehat{y_p(v)} = \\beta_{wt} + \\sum_{m=1}^M \\beta_m \\cdot b_m(v) $$ \n"
   ]
  },
  {
   "cell_type": "markdown",
   "id": "81aeb194-a2d5-485c-8952-5746323009b8",
   "metadata": {},
   "source": [
    "## Fully connected model\n",
    "\n",
    "### Global epistasis (GE) model\n",
    "\n",
    "The GE modeling framework provides a more complex class of models that include a non-linear layer of units after the latent effects layer.\n",
    "\n",
    "Define the latent phenotype for a variant $\\phi(v)$ as:\n",
    "$$\\phi(v) =  \\beta_{wt} + \\sum_{m=1}^M \\beta_{m} \\cdot b_{m}(v) $$\n",
    "\n",
    "Predictions for the observed phenotype $p(v)$ is a function of the latent phenotype:\n",
    "\n",
    "$$\\widehat{y(v)} = g(\\phi(v)) $$\n",
    "\n",
    "where $g$ is the global epistasis function.\n",
    "\n",
    "### Generalized global epistasis (GGE) model\n",
    "\n",
    "The GGE modeling framework provides the following extensions over the GE framework:\n",
    "* Jointly model multiple phenotypes\n",
    "* Learn a multi-dimensional latent space of mutational effects\n",
    "\n",
    "Define the latent phenotype for a phenotype $p$ as\n",
    "$$\\phi_p(v) =  \\beta_{p,wt} + \\sum_{m=1}^M \\beta_{p,m} \\cdot b_{p,m}(v) $$\n",
    "\n",
    "And predictions are obtained by applying a global epistasis function $g$ to *all* latent phenotypes:\n",
    "\n",
    "$$\\widehat{y_p(v)} = g(\\phi_1(v), \\phi_2(v), \\cdots \\phi_p(v)) $$"
   ]
  },
  {
   "cell_type": "markdown",
   "id": "4eb9fa45-2a57-4f6c-9496-1efe5d8e46fb",
   "metadata": {},
   "source": [
    "## Independent model\n",
    "\n",
    "Independent models are meant to be fit to DMS data with measurements for two phenotypes.\n",
    "\n",
    "*Note: Fitting two GE models is logically equivalent to fitting one Independent model.*\n",
    "\n",
    "Predictions are obtained by applying seperate global epistasis functions to each latent phenotype:\n",
    "\n",
    "$$\\widehat{y_1(v)} = g_1(\\phi_1(v)) $$\n",
    "$$\\widehat{y_2(v)} = g_2(\\phi_2(v)) $$"
   ]
  },
  {
   "cell_type": "markdown",
   "id": "33ff51cc-06e3-4678-b527-142af717dc3c",
   "metadata": {},
   "source": [
    "## Conditional model\n",
    "\n",
    "A conditional model assumes that phenotype 1 is ligand binding (`bind`) and phenotype 2 is protein expression (`expr`) and that expression influences binding, but not the other way around.\n",
    "\n",
    "Predictions are obtained with the following functions:\n",
    "$$\\widehat{y_{bind}(v)} = g_{bind}(\\phi_{bind}(v), \\phi_{expr}(v)) $$\n",
    "$$\\widehat{y_{expr}(v)} = g_{expr}(\\phi_{expr}(v)) $$\n",
    "\n",
    "To avoid errors on `bind` from influencing weights assocaited with `expr` during backpropgagation, we can use a `ConditionalSequential` model that trains all weights associated with `expr` first, then freezes them and uses them for `bind` predictions."
   ]
  }
 ],
 "metadata": {
  "kernelspec": {
   "display_name": "Python 3 (ipykernel)",
   "language": "python",
   "name": "python3"
  },
  "language_info": {
   "codemirror_mode": {
    "name": "ipython",
    "version": 3
   },
   "file_extension": ".py",
   "mimetype": "text/x-python",
   "name": "python",
   "nbconvert_exporter": "python",
   "pygments_lexer": "ipython3",
   "version": "3.8.13"
  }
 },
 "nbformat": 4,
 "nbformat_minor": 5
}
