{
 "cells": [
  {
   "cell_type": "markdown",
   "id": "cba51d9d-cffb-456e-adbc-fe2d03aee137",
   "metadata": {},
   "source": [
    "# Conducting an end-to-end anaylsis using the `torchdms` API"
   ]
  },
  {
   "cell_type": "markdown",
   "id": "c4c501d6-dc0b-4b8f-a833-069258b1dcce",
   "metadata": {},
   "source": [
    "First, we will import the following packages for this tutorial:\n",
    "\n",
    "* `torchdms` for analyzing DMS data\n",
    "* `pkg_resources` for retrieving pre-packeged example data\n",
    "* `pandas` for manipulating data frames"
   ]
  },
  {
   "cell_type": "code",
   "execution_count": 1,
   "id": "45348f24-198f-488f-83d9-bdd336f652ba",
   "metadata": {},
   "outputs": [],
   "source": [
    "import torch\n",
    "import os\n",
    "from torchdms.utils import (\n",
    "    from_pickle_file\n",
    ")\n",
    "from torchdms.data import (\n",
    "    partition, \n",
    "    SplitDataset,\n",
    "    prep_by_stratum_and_export\n",
    ")\n",
    "import torchdms.model\n",
    "import torchdms.evaluation\n",
    "import torchdms.plot\n",
    "from torchdms.analysis import Analysis\n",
    "from torchdms.loss import l1\n",
    "import pkg_resources\n",
    "import pandas as pd\n",
    "import torch.nn as nn\n",
    "import matplotlib.pyplot as plt"
   ]
  },
  {
   "cell_type": "markdown",
   "id": "f2b4fc66-a0e4-4257-8c3a-bd25671c77be",
   "metadata": {},
   "source": [
    "## Loading example data and preparing for analysis\n",
    "\n",
    "We will first retrieve a link to the testing data and partition it into train-val-test splits, similar to `tdms prep`:"
   ]
  },
  {
   "cell_type": "code",
   "execution_count": 2,
   "id": "b9580ec6-4837-4210-adb2-bfc45bd656ed",
   "metadata": {},
   "outputs": [],
   "source": [
    "data_path = pkg_resources.resource_filename(\"torchdms\", \"data/test_df.pkl\")"
   ]
  },
  {
   "cell_type": "code",
   "execution_count": 3,
   "id": "7388c19e-81ca-47f8-a64d-0fecf5944de7",
   "metadata": {},
   "outputs": [],
   "source": [
    "data, wtseq = from_pickle_file(data_path)"
   ]
  },
  {
   "cell_type": "markdown",
   "id": "6182a33b-ce48-45ef-94db-068b76d9795e",
   "metadata": {},
   "source": [
    "Now we will partition our DMS variants into train-val-test splits:"
   ]
  },
  {
   "cell_type": "code",
   "execution_count": 4,
   "id": "87b254cd-403b-44f0-abb9-a18447b0a645",
   "metadata": {},
   "outputs": [],
   "source": [
    "split_df = partition(\n",
    "            data,\n",
    "            per_stratum_variants_for_test=10,\n",
    "            skip_stratum_if_count_is_smaller_than=30,\n",
    "            export_dataframe=None,\n",
    "            partition_label=None)"
   ]
  },
  {
   "cell_type": "markdown",
   "id": "3ad79b4d-3a9a-454a-a079-5f65cde41743",
   "metadata": {},
   "source": [
    "To create one-hot representations compatiable with `torchdms` models, the last step is to call `prep_by_stratum_and_export()`, which takes the partitioned data, creates the one-hot encodings, and groups the training data by amino-acid mutation number. \n",
    "\n",
    "After dumping this object to `test_df.prepped.pkl`, we can load this back in using `torchms.utils.from_pickle_file()`"
   ]
  },
  {
   "cell_type": "code",
   "execution_count": 5,
   "id": "4b497d49-6b1a-4f4a-aff9-57cfe8787aa3",
   "metadata": {},
   "outputs": [
    {
     "name": "stdout",
     "output_type": "stream",
     "text": [
      "LOG: There are 21 training samples for stratum: 1\n",
      "LOG: There are 30 training samples for stratum: 2\n",
      "LOG: There are 30 training samples for stratum: 3\n",
      "LOG: There are 35 validation samples\n",
      "LOG: There are 34 test samples\n",
      "LOG: Successfully partitioned data\n",
      "LOG: preparing binary map dataset\n"
     ]
    }
   ],
   "source": [
    "prep_by_stratum_and_export(split_df, wtseq, [\"affinity_score\"], \"test_df.prepped\", \"\", None)\n",
    "split_df_prepped = from_pickle_file(\"test_df.prepped.pkl\")"
   ]
  },
  {
   "cell_type": "markdown",
   "id": "20a13135-3cc6-4ef1-9949-c20de327e43f",
   "metadata": {},
   "source": [
    "## Creating and training a `torchdms` model\n",
    "\n",
    "To create a `torchdms` model, we provide an architechture by specifying the number of nodes, corresponding activations, and input size. We also include the names of the targets we seek to model as well as the amino acid alphabet allowed.\n",
    "We then save this model to a path so we can load it for downstream analysis.\n",
    "By default, we will also create a pickle file of model details (i.e., unseen mutations) in `run.model_details.pkl`"
   ]
  },
  {
   "cell_type": "code",
   "execution_count": 6,
   "id": "e71b470f-d731-44f9-bfbf-bd9d58b470c8",
   "metadata": {},
   "outputs": [],
   "source": [
    "model_path = 'run.model'\n",
    "model = torchdms.model.FullyConnected(\n",
    "        [1, 10],\n",
    "        [None, nn.ReLU()],\n",
    "        split_df_prepped.test.feature_count(),\n",
    "        split_df_prepped.test.target_names,\n",
    "        split_df_prepped.test.alphabet,\n",
    "    )\n",
    "torch.save(model, model_path)"
   ]
  },
  {
   "cell_type": "markdown",
   "id": "5833375d-3319-43fc-9632-bae222d0be74",
   "metadata": {},
   "source": [
    "To train our model, we must define an `Analysis` object, which takes in the model and its path, as well as validation and training data."
   ]
  },
  {
   "cell_type": "code",
   "execution_count": 7,
   "id": "f2600777-303f-4c61-8d25-1db934f59cf9",
   "metadata": {},
   "outputs": [],
   "source": [
    "analysis_params = {\n",
    "    \"model\": model,\n",
    "    \"model_path\": model_path,\n",
    "    \"val_data\": split_df_prepped.val,\n",
    "    \"train_data_list\": split_df_prepped.train,\n",
    "}\n",
    "analysis = Analysis(**analysis_params)"
   ]
  },
  {
   "cell_type": "markdown",
   "id": "2a10caf3-7a1f-4903-b77d-ccbe505b78e6",
   "metadata": {},
   "source": [
    "To conduct training, we define the number of epochs we'd like to train for, a loss function, as well as any other hyperparameters. In this example, we use the two required arguments, and only train for one epoch."
   ]
  },
  {
   "cell_type": "code",
   "execution_count": 8,
   "id": "45495694-dc99-4316-98e9-4e1914088bc2",
   "metadata": {},
   "outputs": [
    {
     "name": "stdout",
     "output_type": "stream",
     "text": [
      "Training in default style.\n",
      "\n",
      "\n",
      "validation loss record: 0.9137683510780334\n"
     ]
    }
   ],
   "source": [
    "training_params = {\"epoch_count\": 1, \"loss_fn\": l1}\n",
    "analysis.train(**training_params)"
   ]
  },
  {
   "cell_type": "markdown",
   "id": "8a7beca8-73b2-4a5d-b3e4-9f93ab533f1e",
   "metadata": {},
   "source": [
    "## Evaluating the model fit with `torchdms` plots"
   ]
  },
  {
   "cell_type": "markdown",
   "id": "2068c6bb-47e2-48c2-90ce-d46e1788ac3d",
   "metadata": {},
   "source": [
    "Most plotting functionality first requires evaluation on the testing dataset. We can do that with `torchdms.evaluation.build_evaluation_dict()`, which takes a model and the testing data to make out-of-sample predictions:"
   ]
  },
  {
   "cell_type": "code",
   "execution_count": 9,
   "id": "c76de028-41bf-4457-a8c4-a65cb55f190d",
   "metadata": {},
   "outputs": [],
   "source": [
    "eval_dict = torchdms.evaluation.build_evaluation_dict(model, split_df_prepped.test)"
   ]
  },
  {
   "cell_type": "markdown",
   "id": "335b123d-eaec-4370-9479-0d2157f8e562",
   "metadata": {},
   "source": [
    "We can then make a scatter plot and a corresponding csv file of the test data vs the predicted values by passing in the evaluation dict, the model object, as well as a path to output the plot:"
   ]
  },
  {
   "cell_type": "code",
   "execution_count": 10,
   "id": "aee805a8-7320-4501-b1bc-b5ae7f2fcc10",
   "metadata": {},
   "outputs": [
    {
     "data": {
      "image/png": "[encoded data removed]",
      "text/plain": [
       "<Figure size 504x432 with 1 Axes>"
      ]
     },
     "metadata": {
      "needs_background": "light"
     },
     "output_type": "display_data"
    }
   ],
   "source": [
    "torchdms.plot.plot_test_correlation(eval_dict, model, out='scatter.png')"
   ]
  },
  {
   "cell_type": "markdown",
   "id": "866b97c4-d709-4524-b5f2-20837e475ec0",
   "metadata": {},
   "source": [
    "We follow the same formula for heatmaps of the single mutant predictions as well as the beta coefficients/latent effects:"
   ]
  },
  {
   "cell_type": "code",
   "execution_count": 11,
   "id": "0892293b-dd53-41f2-826b-1bf00e3c6d47",
   "metadata": {},
   "outputs": [
    {
     "data": {
      "image/png": "[encoded data removed]",
      "text/plain": [
       "<Figure size 720x360 with 2 Axes>"
      ]
     },
     "metadata": {
      "needs_background": "light"
     },
     "output_type": "display_data"
    }
   ],
   "source": [
    "torchdms.plot.plot_heatmap(model, split_df_prepped.test, 'heat.png')"
   ]
  },
  {
   "cell_type": "code",
   "execution_count": 12,
   "id": "55535502-bbe3-4e30-87d8-657814c173ad",
   "metadata": {},
   "outputs": [
    {
     "data": {
      "image/png": "[encoded data removed]",
      "text/plain": [
       "<Figure size 720x360 with 2 Axes>"
      ]
     },
     "metadata": {
      "needs_background": "light"
     },
     "output_type": "display_data"
    }
   ],
   "source": [
    "torchdms.plot.beta_coefficients(model, split_df_prepped.test, 'beta.png')"
   ]
  },
  {
   "cell_type": "markdown",
   "id": "f895857f-6db3-410e-9e4b-1c6add33a5f1",
   "metadata": {},
   "source": [
    "Creating a global epistasis plot requires a dataframe containing latent values of the test variants as well as their observed and predicted values. We can do this with `torchdms.plot.build_ge_plot_df()`:"
   ]
  },
  {
   "cell_type": "code",
   "execution_count": 13,
   "id": "689409fa-8c84-4f2b-98ee-bb4891167738",
   "metadata": {},
   "outputs": [],
   "source": [
    "ge_df = torchdms.plot.build_geplot_df(model, split_df_prepped.test)"
   ]
  },
  {
   "cell_type": "markdown",
   "id": "646d4d84-d5a3-45af-894c-bed5e6951cd8",
   "metadata": {},
   "source": [
    "And finally, we can dump the plot to `ge.png` using the following command:"
   ]
  },
  {
   "cell_type": "code",
   "execution_count": 14,
   "id": "b0324bde-dadf-462f-a8ea-4c885f906ecf",
   "metadata": {},
   "outputs": [
    {
     "name": "stderr",
     "output_type": "stream",
     "text": [
      "/Users/zthornto/opt/anaconda3/lib/python3.8/site-packages/plotnine/ggplot.py:719: PlotnineWarning: Saving 6.4 x 4.8 in image.\n",
      "/Users/zthornto/opt/anaconda3/lib/python3.8/site-packages/plotnine/ggplot.py:722: PlotnineWarning: Filename: ge.png\n"
     ]
    }
   ],
   "source": [
    "torchdms.plot.plot_geplot(ge_df, path=\"ge.png\", title='Global epistasis plot' )"
   ]
  },
  {
   "cell_type": "markdown",
   "id": "87e71555-4832-4eaa-b55d-6fd3fa0a7c9a",
   "metadata": {},
   "source": [
    "NOTE: as of now, `torchdms.plot` uses the `Plotnine` package for creating 1d and 2d global epistasis plots.\n",
    "The current implementation does not support rendering in a jupyter notebook."
   ]
  },
  {
   "cell_type": "markdown",
   "id": "baf4282d-9e76-4d43-bd15-25f51d360e30",
   "metadata": {},
   "source": [
    "Below, we clear all of the files created in this notebook using the `os` package:"
   ]
  },
  {
   "cell_type": "code",
   "execution_count": 15,
   "id": "aef04744-a910-4f6c-a7de-956b77bc13d2",
   "metadata": {},
   "outputs": [],
   "source": [
    "os.remove(model_path)\n",
    "os.remove('run.model_details.pkl')\n",
    "os.remove('test_df.prepped.pkl')\n",
    "os.remove('scatter.png')\n",
    "os.remove('heat.png')\n",
    "os.remove('beta.png')\n",
    "os.remove('ge.png')\n",
    "os.remove('scatter.corr.csv')"
   ]
  }
 ],
 "metadata": {
  "kernelspec": {
   "display_name": "torchdms",
   "language": "python",
   "name": "torchdms"
  },
  "language_info": {
   "codemirror_mode": {
    "name": "ipython",
    "version": 3
   },
   "file_extension": ".py",
   "mimetype": "text/x-python",
   "name": "python",
   "nbconvert_exporter": "python",
   "pygments_lexer": "ipython3",
   "version": "3.8.12"
  }
 },
 "nbformat": 4,
 "nbformat_minor": 5
}
