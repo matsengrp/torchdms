{
 "cells": [
  {
   "cell_type": "code",
   "execution_count": null,
   "metadata": {},
   "outputs": [],
   "source": [
    "import pandas as pd\n",
    "import torch\n",
    "import torchdms\n",
    "from torchdms.binarymap import DataFactory\n",
    "from torchdms.model import SingleSigmoidNet"
   ]
  },
  {
   "cell_type": "code",
   "execution_count": null,
   "metadata": {},
   "outputs": [],
   "source": [
    "m2_bmap = torchdms.binarymap.from_pickle_file(\"../_ignore/m2_bmap.pkl\")\n",
    "bmap_factory = DataFactory(m2_bmap)\n",
    "\n",
    "net = SingleSigmoidNet(input_size=bmap_factory.feature_count(), hidden1_size=1)"
   ]
  },
  {
   "cell_type": "code",
   "execution_count": null,
   "metadata": {},
   "outputs": [],
   "source": [
    "learning_rate = 1e-3\n",
    "epoch_count = 300\n",
    "batch_size = 500"
   ]
  },
  {
   "cell_type": "code",
   "execution_count": null,
   "metadata": {},
   "outputs": [],
   "source": [
    "%%time\n",
    "\n",
    "net.train()\n",
    "optimizer = torch.optim.Adam(net.parameters(), lr=learning_rate)\n",
    "criterion = torch.nn.MSELoss()\n",
    "net, losses = torchdms.model.train_network(\n",
    "    net,\n",
    "    bmap_factory,\n",
    "    criterion,\n",
    "    optimizer,\n",
    "    epoch_count,\n",
    "    batch_size,\n",
    "    get_train_loss=True,\n",
    ")\n",
    "\n",
    "pd.Series(losses).plot()"
   ]
  },
  {
   "cell_type": "code",
   "execution_count": null,
   "metadata": {},
   "outputs": [],
   "source": []
  }
 ],
 "metadata": {
  "kernelspec": {
   "display_name": "Python 3",
   "language": "python",
   "name": "python3"
  },
  "language_info": {
   "codemirror_mode": {
    "name": "ipython",
    "version": 3
   },
   "file_extension": ".py",
   "mimetype": "text/x-python",
   "name": "python",
   "nbconvert_exporter": "python",
   "pygments_lexer": "ipython3",
   "version": "3.7.6"
  }
 },
 "nbformat": 4,
 "nbformat_minor": 4
}
