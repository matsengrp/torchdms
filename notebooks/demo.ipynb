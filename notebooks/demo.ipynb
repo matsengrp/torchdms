{
 "cells": [
  {
   "cell_type": "code",
   "execution_count": null,
   "metadata": {},
   "outputs": [],
   "source": [
    "import pandas as pd\n",
    "import torch\n",
    "import torchdms\n",
    "from torchdms.binarymap import DataFactory\n",
    "from torchdms.model import SingleSigmoidNet\n",
    "\n",
    "%matplotlib notebook"
   ]
  },
  {
   "cell_type": "code",
   "execution_count": null,
   "metadata": {},
   "outputs": [],
   "source": [
    "bmap_by_mutation_count = torchdms.binarymap.from_pickle_file(\"../_ignore/bmap_by_mutation_count.pkl\")\n",
    "\n",
    "def optional_data_factory(bmap):\n",
    "    if bmap:\n",
    "        return DataFactory(bmap)\n",
    "    return None\n",
    "\n",
    "factory_by_mutation_count = [\n",
    "    optional_data_factory(bmap_by_mutation_count[i]) for i in range(len(bmap_by_mutation_count))]\n",
    "\n",
    "training_factory = factory_by_mutation_count[2]\n",
    "testing_factory = factory_by_mutation_count[1]\n",
    "\n",
    "net = SingleSigmoidNet(input_size=training_factory.feature_count(), hidden1_size=1)"
   ]
  },
  {
   "cell_type": "code",
   "execution_count": null,
   "metadata": {},
   "outputs": [],
   "source": [
    "learning_rate = 1e-3\n",
    "epoch_count = 300\n",
    "batch_size = 500"
   ]
  },
  {
   "cell_type": "code",
   "execution_count": null,
   "metadata": {},
   "outputs": [],
   "source": [
    "%%time\n",
    "\n",
    "net.train()\n",
    "optimizer = torch.optim.Adam(net.parameters(), lr=learning_rate)\n",
    "criterion = torch.nn.MSELoss()\n",
    "net, losses = torchdms.model.train_network(\n",
    "    net,\n",
    "    training_factory,\n",
    "    criterion,\n",
    "    optimizer,\n",
    "    epoch_count,\n",
    "    batch_size,\n",
    "    get_train_loss=True,\n",
    ")\n",
    "\n",
    "pd.Series(losses).plot()"
   ]
  },
  {
   "cell_type": "code",
   "execution_count": null,
   "metadata": {},
   "outputs": [],
   "source": [
    "results = pd.DataFrame({\n",
    "    \"Observed\": testing_factory.Y.numpy(), \n",
    "    \"Predicted\": net(testing_factory.X).detach().numpy().transpose()[0]})"
   ]
  },
  {
   "cell_type": "code",
   "execution_count": null,
   "metadata": {},
   "outputs": [],
   "source": [
    "ax = results.plot.scatter(x=\"Observed\", y=\"Predicted\")"
   ]
  },
  {
   "cell_type": "code",
   "execution_count": null,
   "metadata": {},
   "outputs": [],
   "source": [
    "ax = results.plot.hexbin(x=\"Observed\", y=\"Predicted\", title=\"Training on 2x mutants, testing on 1x\")"
   ]
  },
  {
   "cell_type": "code",
   "execution_count": null,
   "metadata": {},
   "outputs": [],
   "source": [
    "results.corr().iloc[0,1]"
   ]
  }
 ],
 "metadata": {
  "kernelspec": {
   "display_name": "Python 3",
   "language": "python",
   "name": "python3"
  },
  "language_info": {
   "codemirror_mode": {
    "name": "ipython",
    "version": 3
   },
   "file_extension": ".py",
   "mimetype": "text/x-python",
   "name": "python",
   "nbconvert_exporter": "python",
   "pygments_lexer": "ipython3",
   "version": "3.7.6"
  }
 },
 "nbformat": 4,
 "nbformat_minor": 4
}
