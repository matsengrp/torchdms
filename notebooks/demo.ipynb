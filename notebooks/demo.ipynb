{
 "cells": [
  {
   "cell_type": "code",
   "execution_count": null,
   "metadata": {},
   "outputs": [],
   "source": [
    "import pandas as pd\n",
    "import torch\n",
    "import torchdms\n",
    "import torchdms.model\n",
    "from dms_variants.binarymap import BinaryMap\n",
    "from torchdms.analysis import Analysis\n",
    "from torchdms.binarymap import DataFactory\n",
    "\n",
    "%matplotlib notebook"
   ]
  },
  {
   "cell_type": "code",
   "execution_count": null,
   "metadata": {},
   "outputs": [],
   "source": [
    "[aa_func_scores, wtseq] = torchdms.binarymap.from_pickle_file(\"../_ignore/aa_func_scores_and_wtseq.pkl\")"
   ]
  },
  {
   "cell_type": "markdown",
   "metadata": {},
   "source": [
    "Let's split things up so that we get `per_mutation_count_variants` variants per mutation count."
   ]
  },
  {
   "cell_type": "code",
   "execution_count": null,
   "metadata": {},
   "outputs": [],
   "source": [
    "per_mutation_count_variants = 500\n",
    "max_mutation_count = 5\n",
    "\n",
    "indices_split_by_mutation_count = {\n",
    "    mutation_count: \n",
    "        aa_func_scores.loc[aa_func_scores[\"n_aa_substitutions\"] == mutation_count, \"n_aa_substitutions\"].index\n",
    "    for mutation_count in range(1,1+max_mutation_count)}\n",
    "\n",
    "indicator = pd.Series([False]*len(aa_func_scores))\n",
    "for indices in indices_split_by_mutation_count.values():\n",
    "    indicator[indices[:per_mutation_count_variants]] = True\n",
    "    \n",
    "assert indicator.sum() == per_mutation_count_variants * max_mutation_count"
   ]
  },
  {
   "cell_type": "markdown",
   "metadata": {},
   "source": [
    "Record the number of mutations for our held-out set:"
   ]
  },
  {
   "cell_type": "code",
   "execution_count": null,
   "metadata": {},
   "outputs": [],
   "source": [
    "indicator_classes = []\n",
    "\n",
    "for mutation_count in indices_split_by_mutation_count.keys():\n",
    "    indicator_classes.extend([mutation_count]*per_mutation_count_variants)"
   ]
  },
  {
   "cell_type": "code",
   "execution_count": null,
   "metadata": {},
   "outputs": [],
   "source": [
    "def bmap_split_of_indicator(indicator):\n",
    "    not_indicator = [not b for b in indicator]\n",
    "    return (\n",
    "        BinaryMap(aa_func_scores.loc[indicator,], expand=True, wtseq=wtseq),\n",
    "        BinaryMap(aa_func_scores.loc[not_indicator,], expand=True, wtseq=wtseq))\n",
    "\n",
    "test_data, train_data = bmap_split_of_indicator(indicator)"
   ]
  },
  {
   "cell_type": "code",
   "execution_count": null,
   "metadata": {},
   "outputs": [],
   "source": [
    "model = torchdms.model.SingleSigmoidNet(input_size=train_data.binarylength, hidden1_size=1)\n",
    "analysis = Analysis(model, train_data)"
   ]
  },
  {
   "cell_type": "code",
   "execution_count": null,
   "metadata": {},
   "outputs": [],
   "source": [
    "%%time\n",
    "\n",
    "criterion = torch.nn.MSELoss()\n",
    "analysis.train(criterion, 300)\n",
    "pd.Series(analysis.losses).plot()"
   ]
  },
  {
   "cell_type": "code",
   "execution_count": null,
   "metadata": {},
   "outputs": [],
   "source": [
    "results = analysis.evaluate(test_data)\n",
    "results[\"n_aa_mutations\"] = indicator_classes"
   ]
  },
  {
   "cell_type": "code",
   "execution_count": null,
   "metadata": {},
   "outputs": [],
   "source": [
    "ax = results.plot.scatter(x=\"Observed\", y=\"Predicted\", c = results.n_aa_mutations, cmap='viridis')"
   ]
  },
  {
   "cell_type": "code",
   "execution_count": null,
   "metadata": {},
   "outputs": [],
   "source": [
    "ax = results.plot.hexbin(x=\"Observed\", y=\"Predicted\")"
   ]
  },
  {
   "cell_type": "code",
   "execution_count": null,
   "metadata": {},
   "outputs": [],
   "source": [
    "results.corr().iloc[0,1]"
   ]
  }
 ],
 "metadata": {
  "kernelspec": {
   "display_name": "Python 3",
   "language": "python",
   "name": "python3"
  },
  "language_info": {
   "codemirror_mode": {
    "name": "ipython",
    "version": 3
   },
   "file_extension": ".py",
   "mimetype": "text/x-python",
   "name": "python",
   "nbconvert_exporter": "python",
   "pygments_lexer": "ipython3",
   "version": "3.7.6"
  }
 },
 "nbformat": 4,
 "nbformat_minor": 4
}
