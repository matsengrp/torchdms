{
 "cells": [
  {
   "cell_type": "code",
   "execution_count": null,
   "metadata": {},
   "outputs": [],
   "source": [
    "import pandas as pd\n",
    "import torch\n",
    "import torchdms\n",
    "import torchdms.data\n",
    "import torchdms.model\n",
    "from torchdms.analysis import Analysis\n",
    "\n",
    "%matplotlib notebook"
   ]
  },
  {
   "cell_type": "code",
   "execution_count": null,
   "metadata": {},
   "outputs": [],
   "source": [
    "[aa_func_scores, wtseq] = torchdms.data.from_pickle_file(\"../_ignore/aa_func_scores_and_wtseq.pkl\")\n",
    "[aa_func_scores, wtseq] = torchdms.data.from_pickle_file(\"../_ignore/gb1.pkl\")"
   ]
  },
  {
   "cell_type": "code",
   "execution_count": null,
   "metadata": {},
   "outputs": [],
   "source": [
    "test_partition, partitioned_train_data = torchdms.data.partition(aa_func_scores)\n",
    "test_data = torchdms.data.bmapplus_of_aa_func_scores(test_partition, wtseq)\n",
    "train_data_list = [\n",
    "    torchdms.data.bmapplus_of_aa_func_scores(train_data_partition, wtseq) \n",
    "    for train_data_partition in partitioned_train_data]"
   ]
  },
  {
   "cell_type": "code",
   "execution_count": null,
   "metadata": {},
   "outputs": [],
   "source": [
    "model = torchdms.model.SingleSigmoidNet(input_size=test_data.binarylength, hidden1_size=1)\n",
    "analysis = Analysis(model, train_data_list)"
   ]
  },
  {
   "cell_type": "code",
   "execution_count": null,
   "metadata": {},
   "outputs": [],
   "source": [
    "%%time\n",
    "\n",
    "criterion = torch.nn.MSELoss()\n",
    "losses = analysis.train(criterion, 3)\n",
    "pd.Series(losses).plot()"
   ]
  },
  {
   "cell_type": "code",
   "execution_count": null,
   "metadata": {},
   "outputs": [],
   "source": [
    "results = analysis.evaluate(test_data)\n",
    "corr = results.corr().iloc[0,1]\n",
    "results[\"n_aa_substitutions\"] = test_data.n_aa_substitutions\n",
    "ax = results.plot.scatter(x=\"Observed\", y=\"Predicted\", c = results[\"n_aa_substitutions\"], cmap='viridis')\n",
    "ax.text(0, 0.95*max(results[\"Predicted\"]), f\"corr = {corr:.3f}\")"
   ]
  }
 ],
 "metadata": {
  "kernelspec": {
   "display_name": "Python 3",
   "language": "python",
   "name": "python3"
  },
  "language_info": {
   "codemirror_mode": {
    "name": "ipython",
    "version": 3
   },
   "file_extension": ".py",
   "mimetype": "text/x-python",
   "name": "python",
   "nbconvert_exporter": "python",
   "pygments_lexer": "ipython3",
   "version": "3.7.6"
  }
 },
 "nbformat": 4,
 "nbformat_minor": 4
}
