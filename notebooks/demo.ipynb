{
 "cells": [
  {
   "cell_type": "code",
   "execution_count": null,
   "metadata": {},
   "outputs": [],
   "source": [
    "import pandas as pd\n",
    "import torch\n",
    "import torchdms\n",
    "from torchdms.analysis import Analysis\n",
    "from torchdms.binarymap import DataFactory\n",
    "from torchdms.model import SingleSigmoidNet\n",
    "\n",
    "%matplotlib notebook"
   ]
  },
  {
   "cell_type": "code",
   "execution_count": null,
   "metadata": {},
   "outputs": [],
   "source": [
    "bmap_by_mutation_count = torchdms.binarymap.from_pickle_file(\"../_ignore/bmap_by_mutation_count.pkl\")\n",
    "\n",
    "train_data = bmap_by_mutation_count[2]\n",
    "model = SingleSigmoidNet(input_size=train_data.binarylength, hidden1_size=1)\n",
    "analysis = Analysis(model, train_data)"
   ]
  },
  {
   "cell_type": "code",
   "execution_count": null,
   "metadata": {},
   "outputs": [],
   "source": [
    "%%time\n",
    "\n",
    "criterion = torch.nn.MSELoss()\n",
    "analysis.train(criterion, 300)\n",
    "pd.Series(analysis.losses).plot()"
   ]
  },
  {
   "cell_type": "code",
   "execution_count": null,
   "metadata": {},
   "outputs": [],
   "source": [
    "results = analysis.evaluate(bmap_by_mutation_count[1])"
   ]
  },
  {
   "cell_type": "code",
   "execution_count": null,
   "metadata": {},
   "outputs": [],
   "source": [
    "ax = results.plot.hexbin(x=\"Observed\", y=\"Predicted\", title=\"Training on 2x mutants, testing on 1x\")"
   ]
  },
  {
   "cell_type": "code",
   "execution_count": null,
   "metadata": {},
   "outputs": [],
   "source": [
    "ax = results.plot.scatter(x=\"Observed\", y=\"Predicted\")"
   ]
  },
  {
   "cell_type": "code",
   "execution_count": null,
   "metadata": {},
   "outputs": [],
   "source": [
    "results.corr().iloc[0,1]"
   ]
  }
 ],
 "metadata": {
  "kernelspec": {
   "display_name": "Python 3",
   "language": "python",
   "name": "python3"
  },
  "language_info": {
   "codemirror_mode": {
    "name": "ipython",
    "version": 3
   },
   "file_extension": ".py",
   "mimetype": "text/x-python",
   "name": "python",
   "nbconvert_exporter": "python",
   "pygments_lexer": "ipython3",
   "version": "3.7.6"
  }
 },
 "nbformat": 4,
 "nbformat_minor": 4
}
